{
 "cells": [
  {
   "cell_type": "markdown",
   "id": "f06b4b2c",
   "metadata": {},
   "source": [
    " ## Table of Contents\n",
    " \n",
    "* ## Chapter 1 <a class=\"anchor\" id=\"## Welcome To Toby's Holiday Adventure\"></a>\n",
    "This is the heading\n",
    "\n",
    "*  Chapter 2 <a class=\"anchor\" id=\"The Purpose of this notebook is to describe Toby's last holiday in Greece \")\"></a>\n",
    "This is the candidate input\n",
    "\n",
    "* [Chapter 2](#chapter2)\n",
    "    * [Section 2.1](#section_2_1)\n",
    "        * [Sub Section 2.1.1](#sub_section_2_1_1)\n",
    "        * [Sub Section 2.1.2](#sub_section_2_1_2)\n",
    "    * [Section 2.2](#section_2_2)\n",
    "        * [Sub Section 2.2.1](#sub_section_2_2_1)\n",
    "        * [Sub Section 2.2.2](#sub_section_2_2_2)\n",
    "* [Chapter 3](#chapter3)\n",
    "    * [Section 3.1](#section_3_1)\n",
    "        * [Sub Section 3.1.1](#sub_section_3_1_1)\n",
    "        * [Sub Section 3.1.2](#sub_section_3_1_2)\n",
    "    * [Section 3.2](#section_3_2)\n",
    "        * [Sub Section 3.2.1](#sub_section_3_2_1)\n",
    "        * [Sub Section 3.2.2](#sub_section_3_2_2)\n"
   ]
  },
  {
   "cell_type": "markdown",
   "id": "ecd74660",
   "metadata": {},
   "source": [
    "## Welcome To Toby's Holiday Adventure"
   ]
  },
  {
   "cell_type": "markdown",
   "id": "529aa81d",
   "metadata": {},
   "source": [
    "The Purpose of this notebook is to describe Toby's last holiday in Greece"
   ]
  },
  {
   "cell_type": "code",
   "execution_count": null,
   "id": "7cd2ee4a",
   "metadata": {},
   "outputs": [],
   "source": [
    "input_name = input(\"Please input your name for registration: \")"
   ]
  },
  {
   "cell_type": "markdown",
   "id": "5c28d26a",
   "metadata": {},
   "source": [
    "<img src=\"ronaldo.jpeg\" style=\"width:800px;height:500px\">"
   ]
  },
  {
   "attachments": {},
   "cell_type": "markdown",
   "id": "27755fa3",
   "metadata": {},
   "source": [
    "<font color=black>Toby's interests in Italy</font>\n",
    "\n",
    "-  <font color=green>Toby likes to visit the Duomo Di Milano. He grew up in Milan and attends sunday mass at the cathedral. Anytime he is back in Italy, he visits the cathedral as his first point\n",
    "</font>\n",
    "<img src=\"Milan_Cathedral_from_Piazza_del_Duomo.jpeg\" style=\"width:800px;height:500px\">\n",
    "\n",
    "\n"
   ]
  },
  {
   "attachments": {},
   "cell_type": "markdown",
   "id": "48631f4c",
   "metadata": {},
   "source": [
    "<font color=blue> He likes to visit the Colosseum. Toby also likes to visit the colosseum. It reminds him of the gladiators in history </font>\n",
    "\n",
    "<img src=\"Colosseo_2020.jpg.webp\" style=\"width:800px;height:500px\">\n",
    "\n"
   ]
  },
  {
   "attachments": {},
   "cell_type": "markdown",
   "id": "9b80a32d",
   "metadata": {},
   "source": [
    "<font color=grey> Lastly, he likes to visit the Vatican museum. The museum is also an interesting place for him to visit\n",
    "</font>\n",
    "\n",
    "<img src=\"Vatican-Museum.webp\" style=\"width:800px;height:500px\">"
   ]
  },
  {
   "cell_type": "code",
   "execution_count": 40,
   "id": "e4ce7bbd",
   "metadata": {},
   "outputs": [
    {
     "data": {
      "text/html": [
       "\n",
       "<div align=\"center\">\n",
       "    <iframe width=\"560\" height=\"315\" src=\"https://www.youtube.com/embed/FlRwssZYRM0\"\n",
       "    </iframe>\n",
       "</div>\n"
      ],
      "text/plain": [
       "<IPython.core.display.HTML object>"
      ]
     },
     "execution_count": 40,
     "metadata": {},
     "output_type": "execute_result"
    }
   ],
   "source": [
    "from IPython.display import HTML\n",
    "HTML(\"\"\"\n",
    "<div align=\"center\">\n",
    "    <iframe width=\"560\" height=\"315\" src=\"https://www.youtube.com/embed/FlRwssZYRM0\"\n",
    "    </iframe>\n",
    "</div>\n",
    "\"\"\")\n",
    "\n"
   ]
  },
  {
   "cell_type": "code",
   "execution_count": null,
   "id": "7b47d3de",
   "metadata": {},
   "outputs": [],
   "source": []
  }
 ],
 "metadata": {
  "kernelspec": {
   "display_name": "Python 3 (ipykernel)",
   "language": "python",
   "name": "python3"
  },
  "language_info": {
   "codemirror_mode": {
    "name": "ipython",
    "version": 3
   },
   "file_extension": ".py",
   "mimetype": "text/x-python",
   "name": "python",
   "nbconvert_exporter": "python",
   "pygments_lexer": "ipython3",
   "version": "3.9.13"
  }
 },
 "nbformat": 4,
 "nbformat_minor": 5
}
