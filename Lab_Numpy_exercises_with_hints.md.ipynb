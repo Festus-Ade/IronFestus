{
 "cells": [
  {
   "cell_type": "markdown",
   "id": "233140ec",
   "metadata": {},
   "source": [
    "#### 1. Import the numpy package under the name `np` (★☆☆)\n",
    "`hint: import … as`\n"
   ]
  },
  {
   "cell_type": "code",
   "execution_count": 2,
   "id": "71ae01ea",
   "metadata": {},
   "outputs": [],
   "source": [
    "import numpy as np"
   ]
  },
  {
   "cell_type": "markdown",
   "id": "53770d31",
   "metadata": {},
   "source": [
    "#### 2. Create a null vector of size 10 (★☆☆)\n",
    "`hint: np.zeros`"
   ]
  },
  {
   "cell_type": "code",
   "execution_count": 12,
   "id": "0e4d54cb",
   "metadata": {},
   "outputs": [
    {
     "name": "stdout",
     "output_type": "stream",
     "text": [
      "[0. 0. 0. 0. 0. 0. 0. 0. 0. 0.]\n"
     ]
    }
   ],
   "source": [
    "null_vector = np.zeros(10)\n",
    "print(null_vector)"
   ]
  },
  {
   "cell_type": "markdown",
   "id": "ceeaaa38",
   "metadata": {},
   "source": [
    "#### 3. Create a null vector of size 10 but the fifth value which is 1 (★☆☆)\n",
    "`hint: array[4]`"
   ]
  },
  {
   "cell_type": "code",
   "execution_count": 10,
   "id": "d6c84cff",
   "metadata": {},
   "outputs": [
    {
     "name": "stdout",
     "output_type": "stream",
     "text": [
      "[0. 0. 0. 0. 0. 1. 0. 0. 0. 0.]\n"
     ]
    }
   ],
   "source": [
    "null_vector_2 = np.zeros(10)\n",
    "null_vector_2[5] = 1\n",
    "\n",
    "print(null_vector_2)"
   ]
  },
  {
   "cell_type": "markdown",
   "id": "03923605",
   "metadata": {},
   "source": [
    "#### 4. Create a vector with values ranging from 10 to 49 (★☆☆)\n",
    "`hint: arange`"
   ]
  },
  {
   "cell_type": "code",
   "execution_count": 13,
   "id": "e94c0ffa",
   "metadata": {},
   "outputs": [
    {
     "name": "stdout",
     "output_type": "stream",
     "text": [
      "[10 11 12 13 14 15 16 17 18 19 20 21 22 23 24 25 26 27 28 29 30 31 32 33\n",
      " 34 35 36 37 38 39 40 41 42 43 44 45 46 47 48 49]\n"
     ]
    }
   ],
   "source": [
    "vector_3 = np.arange(10,50)\n",
    "print(vector_3)"
   ]
  },
  {
   "cell_type": "markdown",
   "id": "a287f7aa",
   "metadata": {},
   "source": [
    "#### 5. Create a 3x3 matrix with values ranging from 0 to 8 (★☆☆)\n",
    "`hint: reshape`"
   ]
  },
  {
   "cell_type": "code",
   "execution_count": 36,
   "id": "756b17ab",
   "metadata": {},
   "outputs": [
    {
     "name": "stdout",
     "output_type": "stream",
     "text": [
      "[[0 1 2]\n",
      " [3 4 5]\n",
      " [6 7 8]]\n"
     ]
    }
   ],
   "source": [
    "vector_4 = np.arange(0,9).reshape(3,3)\n",
    "\n",
    "print(vector_4)"
   ]
  },
  {
   "cell_type": "markdown",
   "id": "1e613439",
   "metadata": {},
   "source": [
    "#### 6. Find indices of non-zero elements from [1,2,0,0,4,0] (★☆☆)\n",
    "`hint: np.nonzero`"
   ]
  },
  {
   "cell_type": "code",
   "execution_count": 62,
   "id": "4632f702",
   "metadata": {},
   "outputs": [
    {
     "name": "stdout",
     "output_type": "stream",
     "text": [
      "(array([0, 1, 4]),)\n"
     ]
    }
   ],
   "source": [
    "#elements = [1,2,0,0,4,0]\n",
    "#for i in elements:\n",
    " #   np.nonzero(i)\n",
    "#print(i)\n",
    "\n",
    "non_zero = np.nonzero([1,2,0,0,4,0])\n",
    "\n",
    "print(non_zero)"
   ]
  },
  {
   "cell_type": "markdown",
   "id": "06fa9f25",
   "metadata": {},
   "source": [
    "#### 7. Create a 3x3 identity matrix (★☆☆)\n",
    "`hint: np.eye`"
   ]
  },
  {
   "cell_type": "code",
   "execution_count": 35,
   "id": "0933030e",
   "metadata": {},
   "outputs": [
    {
     "name": "stdout",
     "output_type": "stream",
     "text": [
      "[[1. 0. 0.]\n",
      " [0. 1. 0.]\n",
      " [0. 0. 1.]]\n"
     ]
    }
   ],
   "source": [
    "matrix = np.eye(3,3)\n",
    "print(matrix)"
   ]
  },
  {
   "cell_type": "markdown",
   "id": "70578fde",
   "metadata": {},
   "source": [
    "#### 9. Create a 10x10 array with random values and find the minimum and maximum values (★☆☆)\n",
    "`hint: min, max`"
   ]
  },
  {
   "cell_type": "markdown",
   "id": "d96e4627",
   "metadata": {},
   "source": [
    "\n",
    "\n",
    "random = np.random.random((10,10))\n",
    "\n",
    "\n",
    "min = np.min(random)\n",
    "max = np.max(random)\n",
    "\n",
    "print(min)"
   ]
  },
  {
   "cell_type": "markdown",
   "id": "0de3172e",
   "metadata": {},
   "source": [
    "#### 10. Create a random vector of size 30 and find the mean value (★☆☆)\n",
    "`hint: mean`\n"
   ]
  },
  {
   "cell_type": "code",
   "execution_count": 39,
   "id": "75af0ef5",
   "metadata": {},
   "outputs": [
    {
     "data": {
      "text/plain": [
       "0.49887621901691853"
      ]
     },
     "execution_count": 39,
     "metadata": {},
     "output_type": "execute_result"
    }
   ],
   "source": [
    "random_vector = np.random.random(30)\n",
    "random_vector.mean()"
   ]
  },
  {
   "cell_type": "markdown",
   "id": "6d96b9cf",
   "metadata": {},
   "source": [
    "#### 11. Create a 5x5 matrix with values 1,2,3,4 just below the diagonal (★☆☆)\n",
    "`hint: np.diag`"
   ]
  },
  {
   "cell_type": "code",
   "execution_count": 71,
   "id": "75b0d376",
   "metadata": {
    "scrolled": false
   },
   "outputs": [
    {
     "name": "stdout",
     "output_type": "stream",
     "text": [
      "[[0 0 0 0 0]\n",
      " [1 0 0 0 0]\n",
      " [0 2 0 0 0]\n",
      " [0 0 3 0 0]\n",
      " [0 0 0 4 0]]\n"
     ]
    }
   ],
   "source": [
    "matrix_values = np.diag([1,2,3,4], -1)\n",
    "\n",
    "print(matrix_values)"
   ]
  },
  {
   "cell_type": "markdown",
   "id": "fd4a3765",
   "metadata": {},
   "source": [
    "#### 12. Normalize a 5x5 random matrix (★☆☆)\n",
    "`hint: (x -mean)/std`"
   ]
  },
  {
   "cell_type": "code",
   "execution_count": 85,
   "id": "da5037f4",
   "metadata": {},
   "outputs": [
    {
     "name": "stdout",
     "output_type": "stream",
     "text": [
      "[[ 0.89896907  0.86021059 -0.78745454  0.28830708  0.34680288]\n",
      " [ 1.32544967  0.38324563 -1.78835679 -1.62508568  1.02663306]\n",
      " [ 1.35105419  0.28040214 -0.95133795 -0.62827305  0.91853978]\n",
      " [-0.19191147  1.12495415 -0.05450519  0.42895239  1.17143498]\n",
      " [-1.34559176 -1.66850079 -1.40238556  0.44386656 -0.4054194 ]]\n"
     ]
    }
   ],
   "source": [
    "random_matrix = np.random.random((5,5))\n",
    "\n",
    "mean = np.mean(random_matrix)\n",
    "\n",
    "std = np.std(random_matrix)\n",
    "\n",
    "random_matrix_2 = (random_matrix - mean)/std\n",
    "\n",
    "print(random_matrix_2)\n",
    "\n"
   ]
  },
  {
   "cell_type": "markdown",
   "id": "b58c90ab",
   "metadata": {},
   "source": [
    "#### 13. How to find common values between two arrays? (★☆☆)\n",
    "`hint: np.intersect1d`\n"
   ]
  },
  {
   "cell_type": "code",
   "execution_count": 55,
   "id": "8b67e0a5",
   "metadata": {},
   "outputs": [
    {
     "name": "stdout",
     "output_type": "stream",
     "text": [
      "[]\n"
     ]
    }
   ],
   "source": [
    "arr_1 = np.random.random(10)\n",
    "\n",
    "arr_2 = np.random.random(10)\n",
    "\n",
    "common_value = np.intersect1d(arr_1,arr_2)\n",
    "\n",
    "\n",
    "print(common_value)\n"
   ]
  },
  {
   "cell_type": "markdown",
   "id": "ab1f985c",
   "metadata": {},
   "source": [
    "#### 14. Create a random vector of size 10 and sort it (★★☆)\n",
    "`hint: sort`"
   ]
  },
  {
   "cell_type": "code",
   "execution_count": 49,
   "id": "2da9e450",
   "metadata": {},
   "outputs": [
    {
     "name": "stdout",
     "output_type": "stream",
     "text": [
      "[0.76090386 0.23739779 0.51694149 0.96482897 0.70146803 0.88562273\n",
      " 0.90802659 0.61181201 0.41008697 0.65322328]\n"
     ]
    }
   ],
   "source": [
    "size = np.random.random(10)\n",
    "size_two = np.sort(size)\n",
    "\n",
    "print(size)\n"
   ]
  },
  {
   "cell_type": "markdown",
   "id": "ce03e602",
   "metadata": {},
   "source": [
    "#### 15. Create random vector of size 10 and replace the maximum value by 0 (★★☆)\n",
    "`hint: argmax`"
   ]
  },
  {
   "cell_type": "code",
   "execution_count": 99,
   "id": "593ff959",
   "metadata": {},
   "outputs": [
    {
     "name": "stdout",
     "output_type": "stream",
     "text": [
      "[0.36149008 0.74235968 0.87591787 0.79576702 0.38192807 0.58253662\n",
      " 0.59239062 0.64276993 0.         0.52922741]\n"
     ]
    }
   ],
   "source": [
    "create = np.random.random(10)\n",
    "\n",
    "replace = np.argmax(create)\n",
    "\n",
    "create[replace] = 0\n",
    "\n",
    "print(create)"
   ]
  },
  {
   "cell_type": "markdown",
   "id": "f58aac05",
   "metadata": {},
   "source": [
    "#### 16. Subtract the mean of each row of a matrix (★★☆)\n",
    "`hint: mean(axis=,keepdims=)`"
   ]
  },
  {
   "cell_type": "code",
   "execution_count": 108,
   "id": "e856c0ee",
   "metadata": {},
   "outputs": [
    {
     "name": "stdout",
     "output_type": "stream",
     "text": [
      "[[-0.01838865  0.09382554 -0.20042271  0.24554563  0.08605355 -0.45944424\n",
      "  -0.27927887  0.11847465  0.15476517  0.25886993]]\n"
     ]
    }
   ],
   "source": [
    "a = np.random.rand(1, 10)\n",
    "b = a - a.mean(axis=1, keepdims=True)\n",
    "\n",
    "\n",
    "\n",
    "print(b)"
   ]
  },
  {
   "cell_type": "markdown",
   "id": "9a27c8d3",
   "metadata": {},
   "source": [
    "#### 17. How to get the n largest values of an array (★★★)\n",
    "`Z = np.arange(10000)\n",
    "np.random.shuffle(Z)\n",
    "n = 5\n",
    "hint: np.argsort | np.argpartition`"
   ]
  },
  {
   "cell_type": "code",
   "execution_count": null,
   "id": "09226fb7",
   "metadata": {},
   "outputs": [],
   "source": []
  },
  {
   "cell_type": "markdown",
   "id": "a32dcb31",
   "metadata": {},
   "source": [
    "#### 18. Create a random 5*3 matrix and replace items that are larger than 4 by their squares ( Example:  6 --> 36) \n",
    "`hint: np.where`"
   ]
  },
  {
   "cell_type": "code",
   "execution_count": null,
   "id": "ef628dd5",
   "metadata": {},
   "outputs": [],
   "source": []
  }
 ],
 "metadata": {
  "kernelspec": {
   "display_name": "Python 3 (ipykernel)",
   "language": "python",
   "name": "python3"
  },
  "language_info": {
   "codemirror_mode": {
    "name": "ipython",
    "version": 3
   },
   "file_extension": ".py",
   "mimetype": "text/x-python",
   "name": "python",
   "nbconvert_exporter": "python",
   "pygments_lexer": "ipython3",
   "version": "3.9.13"
  }
 },
 "nbformat": 4,
 "nbformat_minor": 5
}
