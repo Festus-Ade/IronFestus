{
 "cells": [
  {
   "cell_type": "markdown",
   "id": "8abdfcf4",
   "metadata": {},
   "source": [
    "### Lab | Hypothesis Testing"
   ]
  },
  {
   "cell_type": "code",
   "execution_count": 9,
   "id": "fc673852",
   "metadata": {},
   "outputs": [],
   "source": [
    "import numpy as np\n",
    "import pandas as pd\n",
    "import scipy.stats as stats\n",
    "import matplotlib.pyplot as plt\n",
    "import seaborn as sns\n",
    "import math\n",
    "\n",
    "%matplotlib inline"
   ]
  },
  {
   "cell_type": "markdown",
   "id": "bac9f7b1",
   "metadata": {},
   "source": [
    "### Steps To Computing The Test"
   ]
  },
  {
   "cell_type": "code",
   "execution_count": 1,
   "id": "2f1aa83d",
   "metadata": {},
   "outputs": [],
   "source": [
    "# We get the mean, standard deviation, sample_mean, sample_size\n",
    "## Compute the critical value - we use the t-student distribution because the population standard population is not known\n",
    "### Get the confidence level\n",
    "#### Calculate the test statistics"
   ]
  },
  {
   "cell_type": "code",
   "execution_count": 13,
   "id": "e25288d6",
   "metadata": {},
   "outputs": [
    {
     "name": "stdout",
     "output_type": "stream",
     "text": [
      "4.761904761904759\n"
     ]
    }
   ],
   "source": [
    "population_mean = 120\n",
    "st_dev = 21.21\n",
    "sample_mean = 130.1\n",
    "sample_size = 100\n",
    "\n",
    "\n",
    "z = (sample_mean - population_mean)/(st_dev/math.sqrt(sample_size))\n",
    "print(z)\n"
   ]
  }
 ],
 "metadata": {
  "kernelspec": {
   "display_name": "Python 3 (ipykernel)",
   "language": "python",
   "name": "python3"
  },
  "language_info": {
   "codemirror_mode": {
    "name": "ipython",
    "version": 3
   },
   "file_extension": ".py",
   "mimetype": "text/x-python",
   "name": "python",
   "nbconvert_exporter": "python",
   "pygments_lexer": "ipython3",
   "version": "3.9.13"
  }
 },
 "nbformat": 4,
 "nbformat_minor": 5
}
